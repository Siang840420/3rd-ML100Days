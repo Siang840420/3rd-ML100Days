{
 "cells": [
  {
   "cell_type": "code",
   "execution_count": null,
   "metadata": {},
   "outputs": [],
   "source": [
    "有時候一個 DataFrame 裡頭的欄位太多， pandas 會自動省略某些中間欄位以保持頁面整.\n",
    "如果你無論如何都想要顯示所有欄位以方便一次查看，可以透過 pd.set_option 函式來改變 display.max_columns 設定：\n",
    "\n",
    "pd.set_option(\"display.max_columns\", None)\n",
    "df\n",
    "\n",
    "你也可以使用 T 來轉置（transpose）當前 DataFrame，垂直顯示所有欄位.\n",
    "df.T.head(15)\n",
    "\n",
    "DataFrame 欄位裡頭的 C 正代表著 column.\n",
    "\n",
    "pd.set_option 函式來限制鐵達尼號資料集裡頭 Name 欄位的顯示長度.\n",
    "for example:\n",
    "\n",
    "import pandas as pd\n",
    "from IPython.display import display\n",
    "print(\"display.max_colwidth 預設值：\", \n",
    "      pd.get_option(\"display.max_colwidth\"))\n",
    "\n",
    "# 使用預設設定來顯示 DataFrame\n",
    "df = pd.read_csv('http://bit.ly/kaggletrain')\n",
    "display(df.head(3))\n",
    "\n",
    "print(\"注意 Name 欄位的長度被改變了：\")\n",
    "# 客製化顯示（global）\n",
    "pd.set_option(\"display.max_colwidth\", 10)\n",
    "df.head(3)\n",
    "\n"
   ]
  }
 ],
 "metadata": {
  "kernelspec": {
   "display_name": "Python 3",
   "language": "python",
   "name": "python3"
  },
  "language_info": {
   "codemirror_mode": {
    "name": "ipython",
    "version": 3
   },
   "file_extension": ".py",
   "mimetype": "text/x-python",
   "name": "python",
   "nbconvert_exporter": "python",
   "pygments_lexer": "ipython3",
   "version": "3.6.8"
  }
 },
 "nbformat": 4,
 "nbformat_minor": 2
}
