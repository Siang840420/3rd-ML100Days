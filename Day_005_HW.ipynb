{
 "cells": [
  {
   "cell_type": "code",
   "execution_count": null,
   "metadata": {},
   "outputs": [],
   "source": [
    "一.\n",
    "1.使用包含列表的字典创建DataFrame\n",
    "2.使用嵌套字典创建DataFrame\n",
    "3.使用包含Series的字典创建DataFrame\n",
    "二.\n",
    "xlsx 資料 :import pandas as pd\n",
    "pf = pd.read_excel('train.xlsx',sheetname = ' ')\n",
    "zip  歸檔 :import zipfile\n",
    "archive = zipfile.ZipFile('T.zip', 'r')\n",
    "df = archive.read('train.csv')\n",
    "txt純文字格式:text_file = open(\"text.txt\", \"r\")\n",
    "lines = text_file.read()\n",
    "JSon:import pandas as pd\n",
    "df = pd.read_json('train.json')\n",
    "xml:import xml.etree.ElementTree as ET\n",
    "tree = ET.parse('/home/sunilray/Desktop/2 sigma/train.xml')\n",
    "root = tree.getroot()\n",
    "print root.tag\n",
    "PNG:from scipy import misc\n",
    "f = misc.face()\n",
    "misc.imsave('face.png', f) # uses the Image module (PIL)\n",
    "import matplotlib.pyplot as plt\n",
    "plt.imshow(f)\n",
    "plt.show()  \n",
    "HDF5:import pandas as pd\n",
    "df = pd.read_hdf('train.h5')\n",
    "PDF:python setup.py install\n",
    "    pdf2txt.py train.pdf  # 測試讀取pdf\n",
    "DOCX:pip install docx2txt\n",
    "    import docx2txt\n",
    "text = docx2txt.process(\"file.docx\")"
   ]
  }
 ],
 "metadata": {
  "kernelspec": {
   "display_name": "Python 3",
   "language": "python",
   "name": "python3"
  },
  "language_info": {
   "codemirror_mode": {
    "name": "ipython",
    "version": 3
   },
   "file_extension": ".py",
   "mimetype": "text/x-python",
   "name": "python",
   "nbconvert_exporter": "python",
   "pygments_lexer": "ipython3",
   "version": "3.7.1"
  }
 },
 "nbformat": 4,
 "nbformat_minor": 2
}
